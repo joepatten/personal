{
 "cells": [
  {
   "cell_type": "markdown",
   "metadata": {},
   "source": [
    "## Cournot Duopoly\n",
    "\n",
    "Consider two firms competing to maximize their profits by choosing a quantity, $q_i$ to produce for $i = 1, 2$.  Assume the firms have identical costs of production $C_i(q_i) = c q_i$ where $c > 0$.  The two firms face market inverse demand function,\n",
    "\n",
    "\\begin{align}\n",
    "    p(Q) &= a - b Q \\\\\n",
    "    &= a - b(q_1 + q_2)\n",
    "\\end{align}\n",
    "\n",
    "Each firm must simultaneously choose a strategy $q_i \\in [0, \\infty)$ given a production choice of their competitor, $q_j$ to maximize their private profits.  The payoff to any choice of firm $i$ is,\n",
    "\n",
    "\\begin{align}\n",
    "    \\pi(q_i | q_j) &= (a - bq_i - bq_j)q_i - cq_i \n",
    "\\end{align}"
   ]
  },
  {
   "cell_type": "code",
   "execution_count": 2,
   "metadata": {
    "collapsed": true
   },
   "outputs": [],
   "source": [
    "from sympy import *\n",
    "from sympy.plotting import plot\n",
    "init_printing()"
   ]
  },
  {
   "cell_type": "code",
   "execution_count": 3,
   "metadata": {
    "collapsed": true
   },
   "outputs": [],
   "source": [
    "# Set up the parameters and functions\n",
    "# for our optimization problem.\n",
    "a, b, c, q1, q2 = symbols('a b c q_1 q_2',\n",
    "                          real=True,\n",
    "                          positive=True,\n",
    "                          finite=True)\n",
    "\n",
    "price = a - b * (q1 + q2)\n",
    "profit1 = price * q1 - c * q1\n",
    "profit2 = price * q2 - c * q2"
   ]
  },
  {
   "cell_type": "markdown",
   "metadata": {},
   "source": [
    "For the firms to choose a quantity to maximize their profits given the choice of their competitor, each firm will have to find a $q$ that satisfies both a first and second order condition.  Before we start taking derivatives lets check a few properties of the first and second derivatives."
   ]
  },
  {
   "cell_type": "code",
   "execution_count": 4,
   "metadata": {
    "collapsed": false
   },
   "outputs": [
    {
     "data": {
      "text/plain": [
       "True"
      ]
     },
     "execution_count": 4,
     "metadata": {},
     "output_type": "execute_result"
    }
   ],
   "source": [
    "# Take the first and second derivative of either\n",
    "# profit1 or profit2.\n",
    "test_deriv2 = profit1.diff(q1).diff(q1)\n",
    "\n",
    "# What can we tell about the signs of these\n",
    "# derivatives?\n",
    "test_deriv2.is_negative"
   ]
  },
  {
   "cell_type": "markdown",
   "metadata": {},
   "source": [
    "So we see that the second derivative of either firm's payoff function is negative, for all $q \\in [0, \\infty)$.  This means that the function is globally concave in $q$ and the first order condition is both **necessary** and **sufficient** for a maximum.  In other words, the only critical points are maxima.  So if we find one, then we are good to go."
   ]
  },
  {
   "cell_type": "code",
   "execution_count": 5,
   "metadata": {
    "collapsed": false
   },
   "outputs": [
    {
     "data": {
      "image/png": "[encoded data removed]",
      "text/latex": [
       "$$\\left ( q^{*}_{1} = \\frac{1}{2 b} \\left(a - b q_{2} - c\\right), \\quad q^{*}_{2} = \\frac{1}{2 b} \\left(a - b q_{1} - c\\right)\\right )$$"
      ],
      "text/plain": [
       "⎛         a - b⋅q₂ - c           a - b⋅q₁ - c⎞\n",
       "⎜q_1__* = ────────────, q_2__* = ────────────⎟\n",
       "⎝             2⋅b                    2⋅b     ⎠"
      ]
     },
     "execution_count": 5,
     "metadata": {},
     "output_type": "execute_result"
    }
   ],
   "source": [
    "# Take the derivatives\n",
    "Dprofit1 = profit1.diff(q1)\n",
    "Dprofit2 = profit2.diff(q2)\n",
    "\n",
    "# Set the derivatives equal to\n",
    "# zero and solve for the firm's\n",
    "# quantity to get their best\n",
    "# response function.\n",
    "BR1 = solve(Dprofit1, q1)[0]\n",
    "BR2 = solve(Dprofit2, q2)[0]\n",
    "\n",
    "Eq(Symbol('q_1^*'), BR1), Eq(Symbol('q_2^*'), BR2)"
   ]
  },
  {
   "cell_type": "markdown",
   "metadata": {},
   "source": [
    "Lets momentarily assume some parameter values and graphically depict these best response functions.  We will assume the following values:\n",
    "\n",
    "| Parameter | Value |\n",
    "| :---: | :---: |\n",
    "| $a$ | 20 |\n",
    "| $b$ | 1.5 |\n",
    "| $c$ | 1 |"
   ]
  },
  {
   "cell_type": "code",
   "execution_count": 24,
   "metadata": {
    "collapsed": false
   },
   "outputs": [
    {
     "data": {
      "image/png": "[encoded data removed]",
      "text/plain": [
       "<matplotlib.figure.Figure at 0x10f913b70>"
      ]
     },
     "metadata": {},
     "output_type": "display_data"
    },
    {
     "data": {
      "text/plain": [
       "<sympy.plotting.plot.Plot at 0x10fd917f0>"
      ]
     },
     "execution_count": 24,
     "metadata": {},
     "output_type": "execute_result"
    }
   ],
   "source": [
    "# Define generic 'q' symbol\n",
    "q = Symbol('q')\n",
    "\n",
    "# Invert q1 BR\n",
    "BR1_invert = solve(q1 - BR1, q2)[0]\n",
    "\n",
    "vals = {a: 20,\n",
    "        b: 1.5,\n",
    "        c: 1,\n",
    "        q1: q,\n",
    "        q2: q}\n",
    "\n",
    "p1 = plot(BR1_invert.subs(vals),\n",
    "          BR2.subs(vals),\n",
    "          (q, 0, 10),\n",
    "          title=\"Best Response Functions\",\n",
    "          xlabel=\"$q_1$\",\n",
    "          ylabel=\"$q_2$\",\n",
    "          ylim=(0,13))\n",
    "p1"
   ]
  },
  {
   "cell_type": "markdown",
   "metadata": {},
   "source": [
    "## Nash Equilibrium\n",
    "\n",
    "Great! So we found the profit maximizing strategy for each firm and have characterized all possible optimal strategies by the firm's best response function.  We can substitute these into each other to obtain the **Nash Equilibrium** values."
   ]
  },
  {
   "cell_type": "code",
   "execution_count": 25,
   "metadata": {
    "collapsed": false
   },
   "outputs": [
    {
     "data": {
      "image/png": "[encoded data removed]",
      "text/latex": [
       "$$\\left ( q_1^{ne} = \\frac{a - c}{3 b}, \\quad q_2^{ne} = \\frac{a - c}{3 b}\\right )$$"
      ],
      "text/plain": [
       "⎛            a - c              a - c⎞\n",
       "⎜q_1__{ne} = ─────, q_2__{ne} = ─────⎟\n",
       "⎝             3⋅b                3⋅b ⎠"
      ]
     },
     "execution_count": 25,
     "metadata": {},
     "output_type": "execute_result"
    }
   ],
   "source": [
    "# Substitute firm 1's optimal response into\n",
    "# firm 2's optimal response.\n",
    "equil_vals_2 = BR2.subs(q1, BR1)\n",
    "\n",
    "# Now collect q2 on both sides and solve\n",
    "# for q2 in terms of parameters.\n",
    "q2_ne = solve(q2 - equil_vals_2, q2)[0]\n",
    "\n",
    "# Now substitute the Nash equilibrium\n",
    "# value of q2 into the best response\n",
    "# of firm 1.\n",
    "equil_vals_1 = BR1.subs(q2, q2_ne)\n",
    "\n",
    "# Now collect q1 on both sides and solve\n",
    "# for q1 in terms of parameters.\n",
    "q1_ne = solve(q1 - equil_vals_1, q1)[0]\n",
    "\n",
    "# Display the values\n",
    "Eq(Symbol('q_1^{ne}'), q1_ne), Eq(Symbol('q_2^{ne}'), q2_ne)"
   ]
  },
  {
   "cell_type": "code",
   "execution_count": 33,
   "metadata": {
    "collapsed": false
   },
   "outputs": [
    {
     "data": {
      "image/png": "[encoded data removed]",
      "text/latex": [
       "$$\\left ( Q^{ne} = \\frac{1}{3 b} \\left(2 a - 2 c\\right), \\quad p^{ne} = \\frac{a}{3} + \\frac{2 c}{3}\\right )$$"
      ],
      "text/plain": [
       "⎛          2⋅(a - c)            a   2⋅c⎞\n",
       "⎜Q__{ne} = ─────────, p__{ne} = ─ + ───⎟\n",
       "⎝             3⋅b               3    3 ⎠"
      ]
     },
     "execution_count": 33,
     "metadata": {},
     "output_type": "execute_result"
    }
   ],
   "source": [
    "# Equilibrium Output\n",
    "Q_ne = simplify(q1_ne + q2_ne)\n",
    "P_ne = simplify(price.subs({q1: q1_ne, q2: q2_ne}))\n",
    "\n",
    "Eq(Symbol('Q^{ne}'), Q_ne), Eq(Symbol('p^{ne}'), P_ne)"
   ]
  },
  {
   "cell_type": "code",
   "execution_count": null,
   "metadata": {
    "collapsed": true
   },
   "outputs": [],
   "source": []
  }
 ],
 "metadata": {
  "kernelspec": {
   "display_name": "Python 3",
   "language": "python",
   "name": "python3"
  },
  "language_info": {
   "codemirror_mode": {
    "name": "ipython",
    "version": 3
   },
   "file_extension": ".py",
   "mimetype": "text/x-python",
   "name": "python",
   "nbconvert_exporter": "python",
   "pygments_lexer": "ipython3",
   "version": "3.5.2"
  }
 },
 "nbformat": 4,
 "nbformat_minor": 2
}

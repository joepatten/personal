{
 "cells": [
  {
   "cell_type": "markdown",
   "metadata": {},
   "source": [
    "# Maximum Entropy\n",
    "\n",
    "Information entropy is a function of probability distributions measure the quantity of information contained in a random variable (typically in bits).  Consider a binary random variable that takes on two values, $H$ and $L$.  The probability it takes the value $H$ is $p$ and the probability it takes value $L$ is $1-p$.  Then the average information content of this random variable is measured as,\n",
    "\n",
    "\\begin{align}\n",
    "    H(p) &= -\\left( p \\log(p) + (1-p)\\log(1-p) \\right)\n",
    "\\end{align}\n",
    "\n",
    "Choose the value of $p$ that maximizes the entropy function (i.e., maximizes the uncertainty, or information content of the binary random variable.)"
   ]
  },
  {
   "cell_type": "code",
   "execution_count": 1,
   "metadata": {
    "collapsed": true
   },
   "outputs": [],
   "source": [
    "from sympy import *\n",
    "from sympy.plotting import plot\n",
    "init_printing()"
   ]
  },
  {
   "cell_type": "code",
   "execution_count": 2,
   "metadata": {
    "collapsed": false
   },
   "outputs": [
    {
     "data": {
      "image/png": "[encoded data removed]",
      "text/latex": [
       "$$H(p) = - p \\log{\\left (p \\right )} - \\left(- p + 1\\right) \\log{\\left (- p + 1 \\right )}$$"
      ],
      "text/plain": [
       "H(p) = -p⋅log(p) - (-p + 1)⋅log(-p + 1)"
      ]
     },
     "execution_count": 2,
     "metadata": {},
     "output_type": "execute_result"
    }
   ],
   "source": [
    "# Declare our symbols and setup the\n",
    "# entropy function.\n",
    "p = Symbol('p', real=True, positive=True)\n",
    "H = -1*(p * log(p) + (1 - p) * log(1-p))\n",
    "\n",
    "Eq(Symbol('H(p)'), H)"
   ]
  },
  {
   "cell_type": "code",
   "execution_count": 3,
   "metadata": {
    "collapsed": false
   },
   "outputs": [
    {
     "data": {
      "image/png": "[encoded data removed]",
      "text/latex": [
       "$$\\frac{\\partial H(p)}{\\partial p} = - \\log{\\left (p \\right )} + \\log{\\left (- p + 1 \\right )}$$"
      ],
      "text/plain": [
       "\\frac{\\partial H(p)}{\\partial p} = -log(p) + log(-p + 1)"
      ]
     },
     "execution_count": 3,
     "metadata": {},
     "output_type": "execute_result"
    }
   ],
   "source": [
    "# Take the derivative with respect to\n",
    "# the probability of H: p.\n",
    "DH = H.diff(p)\n",
    "Eq(Symbol('\\\\frac{\\partial H(p)}{\\partial p}'), DH)"
   ]
  },
  {
   "cell_type": "code",
   "execution_count": 4,
   "metadata": {
    "collapsed": false
   },
   "outputs": [
    {
     "data": {
      "image/png": "[encoded data removed]",
      "text/latex": [
       "$$p^{*} = \\frac{1}{2}$$"
      ],
      "text/plain": [
       "p__* = 1/2"
      ]
     },
     "execution_count": 4,
     "metadata": {},
     "output_type": "execute_result"
    }
   ],
   "source": [
    "# Set the derivative equal to zero\n",
    "# and solve for p to find the value that\n",
    "# satisfies the first order condition for\n",
    "# a maximum.\n",
    "p_star = solve(DH, p)[0]\n",
    "Eq(Symbol('p^*'), p_star)"
   ]
  },
  {
   "cell_type": "code",
   "execution_count": 5,
   "metadata": {
    "collapsed": false
   },
   "outputs": [
    {
     "data": {
      "image/png": "[encoded data removed]",
      "text/latex": [
       "$$\\frac{\\partial^2 H(p)}{\\partial p^2} = - \\frac{1}{- p + 1} - \\frac{1}{p}$$"
      ],
      "text/plain": [
       "                                             1      1\n",
       "\\frac{\\partial__2 H(p)}{\\partial p__2} = - ────── - ─\n",
       "                                           -p + 1   p"
      ]
     },
     "execution_count": 5,
     "metadata": {},
     "output_type": "execute_result"
    }
   ],
   "source": [
    "# Find the second derivative so we can\n",
    "# test the second order condition for\n",
    "# a maximum.\n",
    "D2H = H.diff(p).diff(p)\n",
    "Eq(Symbol('\\\\frac{\\partial^2 H(p)}{\\partial p^2}'), D2H)"
   ]
  },
  {
   "cell_type": "code",
   "execution_count": 6,
   "metadata": {
    "collapsed": false
   },
   "outputs": [
    {
     "data": {
      "image/png": "[encoded data removed]",
      "text/latex": [
       "$$\\frac{\\partial^2 H(p)}{\\partial p^2}|_{p^*} = -4$$"
      ],
      "text/plain": [
       "\\frac{\\partial_{p__2 H(p)}{\\partial p__2}|__*} = -4"
      ]
     },
     "execution_count": 6,
     "metadata": {},
     "output_type": "execute_result"
    }
   ],
   "source": [
    "# Evaluate the sign of the second derivative\n",
    "# at the critical point we found, p*.\n",
    "Eq(Symbol('\\\\frac{\\partial^2 H(p)}{\\partial p^2}|_{p^*}'), D2H.subs(p, p_star))"
   ]
  },
  {
   "cell_type": "markdown",
   "metadata": {
    "collapsed": true
   },
   "source": [
    "As we can see, the second derivative is negative and the critical point we found $p^* = 1/2$ is a maximum.  Thus, maximum entropy occurs at the uniform distribution $(p, 1-p) = (1/2, 1/2)$."
   ]
  },
  {
   "cell_type": "code",
   "execution_count": 7,
   "metadata": {
    "collapsed": false
   },
   "outputs": [
    {
     "data": {
      "image/png": "[encoded data removed]",
      "text/plain": [
       "<matplotlib.figure.Figure at 0x105ce1b00>"
      ]
     },
     "metadata": {},
     "output_type": "display_data"
    },
    {
     "data": {
      "text/plain": [
       "<sympy.plotting.plot.Plot at 0x105ce16d8>"
      ]
     },
     "execution_count": 7,
     "metadata": {},
     "output_type": "execute_result"
    }
   ],
   "source": [
    "plot(H, (p, 0.01, 0.99))"
   ]
  }
 ],
 "metadata": {
  "kernelspec": {
   "display_name": "Python 3",
   "language": "python",
   "name": "python3"
  },
  "language_info": {
   "codemirror_mode": {
    "name": "ipython",
    "version": 3
   },
   "file_extension": ".py",
   "mimetype": "text/x-python",
   "name": "python",
   "nbconvert_exporter": "python",
   "pygments_lexer": "ipython3",
   "version": "3.5.2"
  }
 },
 "nbformat": 4,
 "nbformat_minor": 2
}

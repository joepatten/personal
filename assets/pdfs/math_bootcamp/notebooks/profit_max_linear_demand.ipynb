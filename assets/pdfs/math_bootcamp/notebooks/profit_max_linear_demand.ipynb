{
 "cells": [
  {
   "cell_type": "markdown",
   "metadata": {},
   "source": [
    "# Profit Maximizing Quantity (Linear Demand)\n",
    "\n",
    "Consider a situation of a monopolist facing a linear demand curve\n",
    "\n",
    "\\begin{align}\n",
    "    D(p) &= a - b p\n",
    "\\end{align}\n",
    "\n",
    "where $a, b > 0$.  The firm will produce exactly enough units of their product to meet the demand $D(p)$ and it costs them $c > 0$ to produce each unit of product.  The total profits the monopolist expects from choosing price $p>0$ is\n",
    "\n",
    "\\begin{align}\n",
    "    \\pi(p) &= (a - bp)p - c(a - bp) \\\\\n",
    "    &= (p - c)(a - bp)\n",
    "\\end{align}\n",
    "\n",
    "To identify the profit maximizing price we need to identify a local maximum consisting of a critical point, an $x^*$ that satisfies a first order condition $\\frac{d\\pi }{dp} (x^*) = 0$ and a second order condition $\\frac{d^2 \\pi}{d x^2}(x^*) < 0$."
   ]
  },
  {
   "cell_type": "code",
   "execution_count": 2,
   "metadata": {
    "collapsed": false
   },
   "outputs": [],
   "source": [
    "from sympy import *\n",
    "init_printing()"
   ]
  },
  {
   "cell_type": "code",
   "execution_count": 10,
   "metadata": {
    "collapsed": false
   },
   "outputs": [
    {
     "data": {
      "image/png": "[encoded data removed]",
      "text/latex": [
       "$$\\pi(P) = - \\left(- P + c\\right) \\left(- P b + a\\right)$$"
      ],
      "text/plain": [
       "\\pi(P) = -(-P + c)⋅(-P⋅b + a)"
      ]
     },
     "execution_count": 10,
     "metadata": {},
     "output_type": "execute_result"
    }
   ],
   "source": [
    "a, b, c, P = symbols('a b c P',\n",
    "                     real=True,\n",
    "                     positive=True,\n",
    "                     finite=True)\n",
    "demand = a - b * P\n",
    "revenue = P * demand\n",
    "cost = c * demand\n",
    "profit = factor(revenue - cost)\n",
    "\n",
    "Eq(Symbol('\\pi(P)'), profit)"
   ]
  },
  {
   "cell_type": "code",
   "execution_count": 11,
   "metadata": {
    "collapsed": false
   },
   "outputs": [
    {
     "data": {
      "image/png": "[encoded data removed]",
      "text/latex": [
       "$$\\frac{d \\pi}{d p} = - P b + a + b \\left(- P + c\\right)$$"
      ],
      "text/plain": [
       "\\frac{d \\pi}{d p} = -P⋅b + a + b⋅(-P + c)"
      ]
     },
     "execution_count": 11,
     "metadata": {},
     "output_type": "execute_result"
    }
   ],
   "source": [
    "# To satisfy the first order condition\n",
    "# for a maximum we take the derivative\n",
    "# of the profit function w.r.t. p\n",
    "DP = profit.diff(P)\n",
    "Eq(Symbol('\\\\frac{d \\pi}{d p}'), DP)"
   ]
  },
  {
   "cell_type": "code",
   "execution_count": 12,
   "metadata": {
    "collapsed": false
   },
   "outputs": [
    {
     "data": {
      "image/png": "[encoded data removed]",
      "text/latex": [
       "$$P^{*}(a,b,c) = \\frac{a + b c}{2 b}$$"
      ],
      "text/plain": [
       "                a + b⋅c\n",
       "P__{*}(a,b,c) = ───────\n",
       "                  2⋅b  "
      ]
     },
     "execution_count": 12,
     "metadata": {},
     "output_type": "execute_result"
    }
   ],
   "source": [
    "# Set the derivative equal to zero\n",
    "# and solve for p.\n",
    "P_star = solve(DP, P)[0]\n",
    "Eq(Symbol('P^{*}(a,b,c)'), P_star)"
   ]
  },
  {
   "cell_type": "markdown",
   "metadata": {},
   "source": [
    "Now that we have the price that satisfies the first order condition, we need to evaluate the second order condition wich is the second derivative of profit with respect to price and test its sign at the $p^*$."
   ]
  },
  {
   "cell_type": "code",
   "execution_count": 13,
   "metadata": {
    "collapsed": false
   },
   "outputs": [
    {
     "data": {
      "text/plain": [
       "(-2*b, True)"
      ]
     },
     "execution_count": 13,
     "metadata": {},
     "output_type": "execute_result"
    }
   ],
   "source": [
    "D2P = DP.diff(P)\n",
    "D2P, D2P.is_negative"
   ]
  },
  {
   "cell_type": "markdown",
   "metadata": {},
   "source": [
    "From the above sign we see that the second derivative is negative at all prices, so it is clearly going to be negative at any critical point we find."
   ]
  }
 ],
 "metadata": {
  "kernelspec": {
   "display_name": "Python 3",
   "language": "python",
   "name": "python3"
  },
  "language_info": {
   "codemirror_mode": {
    "name": "ipython",
    "version": 3
   },
   "file_extension": ".py",
   "mimetype": "text/x-python",
   "name": "python",
   "nbconvert_exporter": "python",
   "pygments_lexer": "ipython3",
   "version": "3.5.2"
  }
 },
 "nbformat": 4,
 "nbformat_minor": 2
}

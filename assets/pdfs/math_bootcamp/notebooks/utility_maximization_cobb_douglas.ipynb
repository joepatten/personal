{
 "cells": [
  {
   "cell_type": "code",
   "execution_count": 1,
   "metadata": {
    "collapsed": true
   },
   "outputs": [],
   "source": [
    "from sympy import *\n",
    "init_printing()"
   ]
  },
  {
   "cell_type": "code",
   "execution_count": 2,
   "metadata": {
    "collapsed": true
   },
   "outputs": [],
   "source": [
    "x1, x2, a, b, w, p1, p2, L = symbols('x_1 x_2 alpha beta w p_1 p_2 lambda')"
   ]
  },
  {
   "cell_type": "code",
   "execution_count": 6,
   "metadata": {
    "collapsed": false
   },
   "outputs": [
    {
     "data": {
      "image/png": "[encoded data removed]",
      "text/latex": [
       "$$\\left ( x_{1}^{\\alpha} x_{2}^{\\beta}, \\quad - p_{1} x_{1} - p_{2} x_{2} + w\\right )$$"
      ],
      "text/plain": [
       "⎛  α   β                    ⎞\n",
       "⎝x₁ ⋅x₂ , -p₁⋅x₁ - p₂⋅x₂ + w⎠"
      ]
     },
     "execution_count": 6,
     "metadata": {},
     "output_type": "execute_result"
    }
   ],
   "source": [
    "U = (x1**a) * (x2**b)\n",
    "budget_constraint = w - p1*x1 - p2*x2\n",
    "\n",
    "U, budget_constraint"
   ]
  },
  {
   "cell_type": "markdown",
   "metadata": {},
   "source": [
    "## Constrained Maximization Problem\n",
    "\n",
    "The consumer chooses $\\mathbf{x} = (x_1, x_2)$ to solve,\n",
    "\n",
    "\\begin{align}\n",
    "    \\max_{\\mathbf{x}} &\\; U(\\mathbf{x}) = x_1^{\\alpha} x_2^{\\beta} \\\\\n",
    "    s.t. &\\; \\mathbf{p}\\cdot \\mathbf{x} = w\n",
    "\\end{align}\n",
    "\n",
    "where $\\mathbf{p} = (p_1, p_2) \\gg \\mathbf{0}$"
   ]
  },
  {
   "cell_type": "markdown",
   "metadata": {},
   "source": [
    "## Convert to Unconstrained Problem\n",
    "\n",
    "We can convert the constrained optimization problem by forming the *Lagrangian* function as our objective function.\n",
    "\n",
    "\\begin{align}\n",
    "    \\mathcal{L}(\\mathbf{x},\\lambda) &= U(\\mathbf{x}) + \\lambda \\left(w - \\mathbf{p}\\cdot \\mathbf{x} \\right) \\\\\n",
    "    &= x_1^{\\alpha} x_2^{\\beta} + \\lambda (w - p_1 x_1 - p_2 x_2)\n",
    "\\end{align}\n",
    "\n",
    "Using this as the objective function we can derive the first order condition for a maximum (yielding the *critical points*) and test the second order condition at those critical points to verify we have a local maximum and not a minimum or saddle point."
   ]
  },
  {
   "cell_type": "code",
   "execution_count": 9,
   "metadata": {
    "collapsed": false
   },
   "outputs": [
    {
     "data": {
      "image/png": "[encoded data removed]",
      "text/latex": [
       "$$\\left ( \\frac{\\alpha x_{1}^{\\alpha}}{x_{1}} x_{2}^{\\beta} - \\lambda p_{1}, \\quad \\frac{\\beta x_{1}^{\\alpha}}{x_{2}} x_{2}^{\\beta} - \\lambda p_{2}, \\quad - p_{1} x_{1} - p_{2} x_{2} + w\\right )$$"
      ],
      "text/plain": [
       "⎛    α   β             α   β                           ⎞\n",
       "⎜α⋅x₁ ⋅x₂          β⋅x₁ ⋅x₂                            ⎟\n",
       "⎜───────── - λ⋅p₁, ───────── - λ⋅p₂, -p₁⋅x₁ - p₂⋅x₂ + w⎟\n",
       "⎝    x₁                x₂                              ⎠"
      ]
     },
     "execution_count": 9,
     "metadata": {},
     "output_type": "execute_result"
    }
   ],
   "source": [
    "Lagrange =  U + L*budget_constraint\n",
    "\n",
    "Lagrange_x1 = Lagrange.diff(x1)\n",
    "Lagrange_x2 = Lagrange.diff(x2)\n",
    "Lagrange_L = Lagrange.diff(L)\n",
    "\n",
    "Lagrange_x1, Lagrange_x2, Lagrange_L"
   ]
  },
  {
   "cell_type": "markdown",
   "metadata": {},
   "source": [
    "We solve the first two conditions (partial w.r.t. $x_1,x_2$) for the multiplier $\\lambda$ and then set them equal to each other to get rid of the $\\lambda$ term and solve for $x_1$ in terms of $x_2$ and parameters."
   ]
  },
  {
   "cell_type": "code",
   "execution_count": 15,
   "metadata": {
    "collapsed": false
   },
   "outputs": [
    {
     "data": {
      "image/png": "[encoded data removed]",
      "text/latex": [
       "$$x_{1} = \\frac{\\alpha p_{2} x_{2}}{\\beta p_{1}}$$"
      ],
      "text/plain": [
       "     α⋅p₂⋅x₂\n",
       "x₁ = ───────\n",
       "       β⋅p₁ "
      ]
     },
     "execution_count": 15,
     "metadata": {},
     "output_type": "execute_result"
    }
   ],
   "source": [
    "term1 = solve(Lagrange_x1, L)[0].simplify()\n",
    "term2 = solve(Lagrange_x2, L)[0]\n",
    "\n",
    "x1_temp = solve(term1 - term2, x1)[0].simplify()\n",
    "Eq(x1, x1_temp)"
   ]
  },
  {
   "cell_type": "markdown",
   "metadata": {},
   "source": [
    "Now we can substitute our expression for $x_1$, that summarizes the first 2 conditions, into the third first order condition (associated with $\\lambda$), solve for $x_2$ to get the **Marshalian Demand** function for $x_2$. "
   ]
  },
  {
   "cell_type": "code",
   "execution_count": 17,
   "metadata": {
    "collapsed": false
   },
   "outputs": [
    {
     "data": {
      "image/png": "[encoded data removed]",
      "text/latex": [
       "$$x^{*}_{2} = \\frac{\\beta w}{p_{2} \\left(\\alpha + \\beta\\right)}$$"
      ],
      "text/plain": [
       "            β⋅w    \n",
       "x_2__* = ──────────\n",
       "         p₂⋅(α + β)"
      ]
     },
     "execution_count": 17,
     "metadata": {},
     "output_type": "execute_result"
    }
   ],
   "source": [
    "subbed_term = Lagrange_L.subs(x1, x1_temp)\n",
    "x2_star = solve(subbed_term, x2)[0]\n",
    "Eq(Symbol('x_2^*'), x2_star)"
   ]
  },
  {
   "cell_type": "markdown",
   "metadata": {},
   "source": [
    "We can now substitute the demand function $x_2^*(\\mathbf{p},w)$ into another first order condition, solve for $x_1$ to get its demand function."
   ]
  },
  {
   "cell_type": "code",
   "execution_count": 18,
   "metadata": {
    "collapsed": false
   },
   "outputs": [
    {
     "data": {
      "image/png": "[encoded data removed]",
      "text/latex": [
       "$$x^{*}_{1} = \\frac{\\alpha w}{p_{1} \\left(\\alpha + \\beta\\right)}$$"
      ],
      "text/plain": [
       "            α⋅w    \n",
       "x_1__* = ──────────\n",
       "         p₁⋅(α + β)"
      ]
     },
     "execution_count": 18,
     "metadata": {},
     "output_type": "execute_result"
    }
   ],
   "source": [
    "subbed_term = Lagrange_L.subs(x2, x2_star)\n",
    "x1_star = solve(subbed_term, x1)[0]\n",
    "Eq(Symbol('x_1^*'), x1_star)"
   ]
  },
  {
   "cell_type": "markdown",
   "metadata": {},
   "source": [
    "Now that we know $x_1^*$ and $x_2^*$ we can substitute them into one the first order conditions that were solved for $\\lambda$ and derive the optimal Lagrange multiplier value (which represents the marginal utility of wealth at the optimal choice)."
   ]
  },
  {
   "cell_type": "code",
   "execution_count": 34,
   "metadata": {
    "collapsed": false
   },
   "outputs": [
    {
     "data": {
      "image/png": "[encoded data removed]",
      "text/latex": [
       "$$\\lambda^{*} = \\frac{\\alpha}{p_{1}} \\left(\\frac{\\alpha w}{p_{1} \\left(\\alpha + \\beta\\right)}\\right)^{\\alpha - 1} \\left(\\frac{\\beta w}{p_{2} \\left(\\alpha + \\beta\\right)}\\right)^{\\beta}$$"
      ],
      "text/plain": [
       "                     α - 1             β\n",
       "         ⎛   α⋅w    ⎞      ⎛   β⋅w    ⎞ \n",
       "       α⋅⎜──────────⎟     ⋅⎜──────────⎟ \n",
       "         ⎝p₁⋅(α + β)⎠      ⎝p₂⋅(α + β)⎠ \n",
       "λ__* = ─────────────────────────────────\n",
       "                       p₁               "
      ]
     },
     "execution_count": 34,
     "metadata": {},
     "output_type": "execute_result"
    }
   ],
   "source": [
    "L_star = term1.subs([(x1, x1_star), (x2, x2_star)]).simplify()\n",
    "Eq(Symbol('lambda^*'), L_star)"
   ]
  },
  {
   "cell_type": "markdown",
   "metadata": {},
   "source": [
    "The Walrasian demand is the \"argmax\" of the utility maximization problem.\n",
    "\n",
    "\\begin{align}\n",
    "    \\mathbf{x}(\\mathbf{p},w) &= (x_1^*(\\mathbf{p},w), x_2^*(\\mathbf{p},w))\n",
    "\\end{align}\n",
    "\n",
    "substituting the solutions to the maximization problem into the utility function we can derive the **indirect utility**."
   ]
  },
  {
   "cell_type": "code",
   "execution_count": 35,
   "metadata": {
    "collapsed": false
   },
   "outputs": [
    {
     "data": {
      "image/png": "[encoded data removed]",
      "text/latex": [
       "$$V(\\mathbf{p},w) = \\left(\\frac{\\alpha w}{p_{1} \\left(\\alpha + \\beta\\right)}\\right)^{\\alpha} \\left(\\frac{\\beta w}{p_{2} \\left(\\alpha + \\beta\\right)}\\right)^{\\beta}$$"
      ],
      "text/plain": [
       "                              α             β\n",
       "                  ⎛   α⋅w    ⎞  ⎛   β⋅w    ⎞ \n",
       "V(\\mathbf{p},w) = ⎜──────────⎟ ⋅⎜──────────⎟ \n",
       "                  ⎝p₁⋅(α + β)⎠  ⎝p₂⋅(α + β)⎠ "
      ]
     },
     "execution_count": 35,
     "metadata": {},
     "output_type": "execute_result"
    }
   ],
   "source": [
    "V = U.subs([(x1, x1_star), (x2, x2_star)]).simplify()\n",
    "Eq(Symbol('V(\\mathbf{p},w)'), V)"
   ]
  }
 ],
 "metadata": {
  "kernelspec": {
   "display_name": "Python 3",
   "language": "python",
   "name": "python3"
  },
  "language_info": {
   "codemirror_mode": {
    "name": "ipython",
    "version": 3
   },
   "file_extension": ".py",
   "mimetype": "text/x-python",
   "name": "python",
   "nbconvert_exporter": "python",
   "pygments_lexer": "ipython3",
   "version": "3.5.2"
  }
 },
 "nbformat": 4,
 "nbformat_minor": 2
}

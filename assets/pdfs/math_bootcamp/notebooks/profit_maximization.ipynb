{
 "cells": [
  {
   "cell_type": "markdown",
   "metadata": {},
   "source": [
    "# Profit Maximizing Input Choices\n",
    "\n",
    "Consider the profit maximization problem a firm facing production technology $A\\cdot F(K, L)$ with inputs $K,L$ having market prices of $r, w > 0$ respectively and can sell its product at price $p>0$.\n",
    "\n",
    "\\begin{align}\n",
    "    \\max_{K,L \\geq 0} \\; A\\cdot F(K, L) p - rK - wL\n",
    "\\end{align}\n",
    "\n",
    "Assume that the technology is convex and captial instensive such that output can be described from inputs as\n",
    "\n",
    "\\begin{align}\n",
    "    A \\cdot F(K, L) = A \\cdot K^{2/3}\\cdot L^{1/3}\n",
    "\\end{align}\n",
    "\n",
    "where $A > 0$ is a constant representing a total factor productivity."
   ]
  },
  {
   "cell_type": "code",
   "execution_count": 6,
   "metadata": {
    "collapsed": false
   },
   "outputs": [],
   "source": [
    "from sympy import *\n",
    "init_printing()"
   ]
  },
  {
   "cell_type": "code",
   "execution_count": 7,
   "metadata": {
    "collapsed": false
   },
   "outputs": [],
   "source": [
    "# Declare the symbols we need to setup\n",
    "# the firm's profit maximization problem.\n",
    "K, L, w, r, A, p = symbols('K L w r A p',\n",
    "                             positive=True,\n",
    "                             real=True,\n",
    "                             finite=True)\n",
    "\n",
    "a = Rational(1,2)\n",
    "b = Rational(1,3)"
   ]
  },
  {
   "cell_type": "code",
   "execution_count": 8,
   "metadata": {
    "collapsed": false
   },
   "outputs": [
    {
     "data": {
      "image/png": "[encoded data removed]",
      "text/latex": [
       "$$\\pi(K,L) = A \\sqrt{K} \\sqrt[3]{L} p - K r - L w$$"
      ],
      "text/plain": [
       "                3 ___              \n",
       "\\pi(K,L) = A⋅√K⋅╲╱ L ⋅p - K⋅r - L⋅w"
      ]
     },
     "execution_count": 8,
     "metadata": {},
     "output_type": "execute_result"
    }
   ],
   "source": [
    "# Assume Cobb-Douglas production technology\n",
    "F = A * (K**a) * (L**b)\n",
    "\n",
    "# Firm faces input prices:\n",
    "#    w <-- wage rate of labor\n",
    "#    r <-- rental rate on capital\n",
    "cost = r * K + w * L\n",
    "\n",
    "# Firm profit is revenue - price\n",
    "profit = p * F - cost\n",
    "\n",
    "# display profit function\n",
    "Eq(Symbol('\\pi(K,L)'), profit)"
   ]
  },
  {
   "cell_type": "markdown",
   "metadata": {},
   "source": [
    "Now that we have setup the profit function we want to identify the pair of input choices $(K, L)$ that will maximize profits.  This means we want to find at the very least a local maxima.  We have to satisfy a set of first order conditions and a second order condition.  In particular we will need the gradiant $\\nabla \\pi(K,L) = \\mathbf{0}$ to be zero at $(K,L)$ to identify a critical point.  Next, we will determine whether such critical points are a maximum, minimum or saddle point."
   ]
  },
  {
   "cell_type": "code",
   "execution_count": 9,
   "metadata": {
    "collapsed": false
   },
   "outputs": [
    {
     "data": {
      "image/png": "[encoded data removed]",
      "text/latex": [
       "$$\\left ( \\frac{A \\sqrt[3]{L} p}{2 \\sqrt{K}} - r, \\quad \\frac{A \\sqrt{K} p}{3 L^{\\frac{2}{3}}} - w\\right )$$"
      ],
      "text/plain": [
       "⎛  3 ___                  ⎞\n",
       "⎜A⋅╲╱ L ⋅p      A⋅√K⋅p    ⎟\n",
       "⎜───────── - r, ────── - w⎟\n",
       "⎜   2⋅√K           2/3    ⎟\n",
       "⎝               3⋅L       ⎠"
      ]
     },
     "execution_count": 9,
     "metadata": {},
     "output_type": "execute_result"
    }
   ],
   "source": [
    "# Differentiate the profit function\n",
    "# w.r.t. K and L.\n",
    "DK = profit.diff(K)\n",
    "DL = profit.diff(L)\n",
    "\n",
    "DK, DL"
   ]
  },
  {
   "cell_type": "markdown",
   "metadata": {},
   "source": [
    "Both of the first order conditions must be satisfied simultaneously for a critical point.  So we solve the system of two nonlinear equations,\n",
    "\n",
    "\\begin{align}\n",
    "    \\frac{\\partial \\pi(K,L)}{\\partial K} &= 0 \\\\\n",
    "    \\frac{\\partial \\pi(K,L)}{\\partial L} &= 0\n",
    "\\end{align}"
   ]
  },
  {
   "cell_type": "code",
   "execution_count": 10,
   "metadata": {
    "collapsed": false
   },
   "outputs": [
    {
     "data": {
      "image/png": "[encoded data removed]",
      "text/latex": [
       "$$\\left \\{ K : \\frac{A^{6} p^{6}}{144 r^{4} w^{2}}, \\quad L : \\frac{A^{6} p^{6}}{216 r^{3} w^{3}}\\right \\}$$"
      ],
      "text/plain": [
       "⎧      6  6          6  6  ⎫\n",
       "⎪     A ⋅p          A ⋅p   ⎪\n",
       "⎨K: ─────────, L: ─────────⎬\n",
       "⎪        4  2          3  3⎪\n",
       "⎩   144⋅r ⋅w      216⋅r ⋅w ⎭"
      ]
     },
     "execution_count": 10,
     "metadata": {},
     "output_type": "execute_result"
    }
   ],
   "source": [
    "sols = solve([DK, DL],[K, L], dict=True)[0]\n",
    "sols"
   ]
  },
  {
   "cell_type": "markdown",
   "metadata": {},
   "source": [
    "The above solutions for $(K, L)$ give values in terms of constant parameters that satisfy the first order condition, making $(K, L)$ a critical point.  Next, we need to test the second order condition by deriving the matrix of second partial derivatives, known as a Hessian matrix."
   ]
  },
  {
   "cell_type": "code",
   "execution_count": 13,
   "metadata": {
    "collapsed": false
   },
   "outputs": [
    {
     "data": {
      "image/png": "[encoded data removed]",
      "text/latex": [
       "$$\\left[\\begin{matrix}- \\frac{72 r^{5} w^{2}}{A^{6} p^{6}} & \\frac{72 r^{4} w^{3}}{A^{6} p^{6}}\\\\\\frac{72 r^{4} w^{3}}{A^{6} p^{6}} & - \\frac{144 r^{3} w^{4}}{A^{6} p^{6}}\\end{matrix}\\right]$$"
      ],
      "text/plain": [
       "⎡     5  2        4  3  ⎤\n",
       "⎢-72⋅r ⋅w     72⋅r ⋅w   ⎥\n",
       "⎢──────────   ────────  ⎥\n",
       "⎢   6  6        6  6    ⎥\n",
       "⎢  A ⋅p        A ⋅p     ⎥\n",
       "⎢                       ⎥\n",
       "⎢     4  3         3  4 ⎥\n",
       "⎢ 72⋅r ⋅w    -144⋅r ⋅w  ⎥\n",
       "⎢ ────────   ───────────⎥\n",
       "⎢   6  6         6  6   ⎥\n",
       "⎣  A ⋅p         A ⋅p    ⎦"
      ]
     },
     "execution_count": 13,
     "metadata": {},
     "output_type": "execute_result"
    }
   ],
   "source": [
    "# Derive the second and cross-partial\n",
    "# derivatives of the profit function\n",
    "# and substitute in the values (K, L)\n",
    "# we found as critical points.\n",
    "pi_KK = DK.diff(K).subs({K: sols[K], L: sols[L]})\n",
    "pi_KL = DK.diff(L).subs({K: sols[K], L: sols[L]})\n",
    "pi_LL = DL.diff(L).subs({K: sols[K], L: sols[L]})\n",
    "pi_LK = DL.diff(K).subs({K: sols[K], L: sols[L]})\n",
    "\n",
    "# Place the derivatives into a matrix\n",
    "# in the proper order.\n",
    "hessian = Matrix([\n",
    "    [pi_KK, pi_KL],\n",
    "    [pi_LK, pi_LL]\n",
    "])\n",
    "\n",
    "hessian"
   ]
  },
  {
   "cell_type": "markdown",
   "metadata": {},
   "source": [
    "Now that we have the Hessian matrix for this problem, we need to determine whether it is negative-definite.  In a univariate optimization problem with maximand $f(x)$ the second order test for a maximum is $f''(x^*) < 0$ where $x^*$ solves $f'(x^*) = 0$ (or its a critical point).  The analog to this in multivariate optimization is to identify the signs of principal minors of the matrix or its eigenvalues to determine whether the matrix is \"positive\" (positive definite) or \"negative\" (negative definite) or zero.\n",
    "\n",
    "In this case, the $2\\times 2$ Hessian matrix will be negative definite (a maximum) if when evaluated at the $(K^*,L^*)$ that satisfy the first order condition the following holds.\n",
    "\n",
    "1. $\\pi_{KK}(K^*, L^*) < 0$, and\n",
    "2. $\\det(\\text{Hessian}(K^*,L^*)) > 0$"
   ]
  },
  {
   "cell_type": "code",
   "execution_count": 14,
   "metadata": {
    "collapsed": false
   },
   "outputs": [
    {
     "data": {
      "text/plain": [
       "True"
      ]
     },
     "execution_count": 14,
     "metadata": {},
     "output_type": "execute_result"
    }
   ],
   "source": [
    "# For the first condition we substitute in\n",
    "# the optimal choices (K, L) into the derivative\n",
    "# function obtained earlier and test its sign.\n",
    "pm1 = pi_KK.subs({K: sols[K], L: sols[L]})\n",
    "pm1.is_negative\n",
    "# Is it negative?  YES."
   ]
  },
  {
   "cell_type": "code",
   "execution_count": 17,
   "metadata": {
    "collapsed": false
   },
   "outputs": [
    {
     "data": {
      "text/plain": [
       "True"
      ]
     },
     "execution_count": 17,
     "metadata": {},
     "output_type": "execute_result"
    }
   ],
   "source": [
    "# Calculate the determinate of the Hessian\n",
    "# evaluated at the critical point and test\n",
    "# its sign.\n",
    "detH = hessian.det()\n",
    "detH.is_positive\n",
    "# Is it positive? YES."
   ]
  }
 ],
 "metadata": {
  "kernelspec": {
   "display_name": "Python 3",
   "language": "python",
   "name": "python3"
  },
  "language_info": {
   "codemirror_mode": {
    "name": "ipython",
    "version": 3
   },
   "file_extension": ".py",
   "mimetype": "text/x-python",
   "name": "python",
   "nbconvert_exporter": "python",
   "pygments_lexer": "ipython3",
   "version": "3.5.2"
  }
 },
 "nbformat": 4,
 "nbformat_minor": 2
}

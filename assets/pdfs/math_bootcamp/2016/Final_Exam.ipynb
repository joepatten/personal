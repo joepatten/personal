{
 "cells": [
  {
   "cell_type": "code",
   "execution_count": 45,
   "metadata": {
    "collapsed": false
   },
   "outputs": [],
   "source": [
    "from sympy import *\n",
    "import matplotlib.pyplot as plt\n",
    "from sympy.plotting import plot\n",
    "from sympy.matrices import *\n",
    "init_printing()\n",
    "%matplotlib inline"
   ]
  },
  {
   "cell_type": "markdown",
   "metadata": {},
   "source": [
    "# Problem 1 #\n",
    "\n",
    "We have the following system\n",
    "\n",
    "\\begin{align}\n",
    "    q_D &= b_D - 2p + r \\\\\n",
    "    q_S &= b_S + 2p - r \\\\\n",
    "    r &= 2b_r + 4p - 2q\n",
    "\\end{align}\n",
    "Convert the system of equations into a linear function of the form $A\\mathbf{x} = \\mathbf{b}$\n",
    "\n",
    "\\begin{align}\n",
    "    q + 2p - r &= b_D \\\\\n",
    "    1q - 2p + r &= b_S \\\\\n",
    "    1q - 2p + \\frac{1}{2}r &= b_r\n",
    "\\end{align}\n",
    "\n",
    "and in matrix terms we have\n",
    "\n",
    "\\begin{align}\n",
    "    \\begin{bmatrix}\n",
    "        1 & 2 & -1 \\\\\n",
    "        1 & -2 & 1 \\\\\n",
    "        1 & -2 & \\frac{1}{2}\n",
    "    \\end{bmatrix}\n",
    "    \\begin{bmatrix}\n",
    "        q \\\\\n",
    "        p \\\\\n",
    "        r\n",
    "    \\end{bmatrix} &= \n",
    "    \\begin{bmatrix}\n",
    "        b_D \\\\\n",
    "        b_S \\\\\n",
    "        b_r\n",
    "    \\end{bmatrix}\n",
    "\\end{align}\n",
    "\n",
    "### Test Solution Existence and Uniqueness with Determinant\n",
    "We want to test the determinant $\\det A = 0$.  If it is, then we may either have no solution to the system, or an infinite number of solutions.  If $\\det A \\neq 0$ then we know for every vector $\\mathbf{b}$ there is a unique solution to the system."
   ]
  },
  {
   "cell_type": "code",
   "execution_count": 46,
   "metadata": {
    "collapsed": false
   },
   "outputs": [
    {
     "data": {
      "image/png": "[encoded data removed]",
      "text/latex": [
       "$$\\left ( \\left[\\begin{matrix}1 & 2 & -1\\\\1 & -2 & 1\\\\1 & -2 & \\frac{1}{2}\\end{matrix}\\right], \\quad \\det A = 2\\right )$$"
      ],
      "text/plain": [
       "⎛⎡1  2   -1 ⎤, \\det A = 2⎞\n",
       "⎜⎢          ⎥            ⎟\n",
       "⎜⎢1  -2   1 ⎥            ⎟\n",
       "⎜⎢          ⎥            ⎟\n",
       "⎝⎣1  -2  1/2⎦            ⎠"
      ]
     },
     "execution_count": 46,
     "metadata": {},
     "output_type": "execute_result"
    }
   ],
   "source": [
    "A = Matrix([\n",
    "        [1, 2, -1],\n",
    "        [1, -2, 1],\n",
    "        [1, -2, Rational(1,2)]\n",
    "    ])\n",
    "\n",
    "# We calculate the determinant using A.det() function\n",
    "detA = A.det()\n",
    "A, Eq(Symbol('\\det A'),detA)"
   ]
  },
  {
   "cell_type": "markdown",
   "metadata": {},
   "source": [
    "### Find A^{-1} and Solve the System\n",
    "\n",
    "If $A$ is invertible then $\\mathbf{x} = A^{-1}\\mathbf{b}$.  So calculate the inverse and post multiply $\\mathbf{b}$ to find the solution.  Assume that $\\mathbf{b} = [10,5,1]$."
   ]
  },
  {
   "cell_type": "code",
   "execution_count": 47,
   "metadata": {
    "collapsed": false
   },
   "outputs": [
    {
     "data": {
      "image/png": "[encoded data removed]",
      "text/latex": [
       "$$\\left ( \\left[\\begin{matrix}\\frac{1}{2} & \\frac{1}{2} & 0\\\\\\frac{1}{4} & \\frac{3}{4} & -1\\\\0 & 2 & -2\\end{matrix}\\right], \\quad \\left[\\begin{matrix}10\\\\8\\\\2\\end{matrix}\\right]\\right )$$"
      ],
      "text/plain": [
       "⎛⎡1/2  1/2  0 ⎤, ⎡10⎤⎞\n",
       "⎜⎢            ⎥  ⎢  ⎥⎟\n",
       "⎜⎢1/4  3/4  -1⎥  ⎢8 ⎥⎟\n",
       "⎜⎢            ⎥  ⎢  ⎥⎟\n",
       "⎝⎣ 0    2   -2⎦  ⎣2 ⎦⎠"
      ]
     },
     "execution_count": 47,
     "metadata": {},
     "output_type": "execute_result"
    }
   ],
   "source": [
    "#Instantiate b vector\n",
    "b = Matrix([\n",
    "        [10],\n",
    "        [8],\n",
    "        [2]\n",
    "    ])\n",
    "\n",
    "#Calculate the inverse of the A matrix.\n",
    "Ainv = A.inv()\n",
    "Ainv, b"
   ]
  },
  {
   "cell_type": "code",
   "execution_count": 48,
   "metadata": {
    "collapsed": false
   },
   "outputs": [
    {
     "data": {
      "image/png": "[encoded data removed]",
      "text/latex": [
       "$$\\left[\\begin{matrix}9\\\\\\frac{13}{2}\\\\12\\end{matrix}\\right]$$"
      ],
      "text/plain": [
       "⎡ 9  ⎤\n",
       "⎢    ⎥\n",
       "⎢13/2⎥\n",
       "⎢    ⎥\n",
       "⎣ 12 ⎦"
      ]
     },
     "execution_count": 48,
     "metadata": {},
     "output_type": "execute_result"
    }
   ],
   "source": [
    "#Use the inverse of A to find the solution x\n",
    "x = Ainv*b\n",
    "x"
   ]
  },
  {
   "cell_type": "markdown",
   "metadata": {},
   "source": [
    "# Problem 2\n",
    "\n",
    "Consider the system:\n",
    "\n",
    "\\begin{align}\n",
    "    q_D &= \\frac{b_D}{p^2} \\\\\n",
    "    q_S &= A_S + \\frac{1}{b_S}p^2\n",
    "\\end{align}"
   ]
  },
  {
   "cell_type": "code",
   "execution_count": 49,
   "metadata": {
    "collapsed": false
   },
   "outputs": [
    {
     "data": {
      "image/png": "[encoded data removed]",
      "text/latex": [
       "$$\\left ( \\frac{b_{D}}{e^{p}}, \\quad b_{S} e^{p}\\right )$$"
      ],
      "text/plain": [
       "⎛     -p       p⎞\n",
       "⎝b_D⋅ℯ  , b_S⋅ℯ ⎠"
      ]
     },
     "execution_count": 49,
     "metadata": {},
     "output_type": "execute_result"
    }
   ],
   "source": [
    "bD = Symbol('b_D', real=True, positive=True)\n",
    "bS = Symbol('b_S', real=True, positive=True)\n",
    "AS = Symbol('A_S', real=True, positive=True)\n",
    "AD = Symbol('A_D', real=True, positive=True)\n",
    "p = Symbol('p', real=True, positive=True)\n",
    "\n",
    "demand = bD*exp(-p)\n",
    "supply = bS*exp(p) \n",
    "\n",
    "demand, supply"
   ]
  },
  {
   "cell_type": "code",
   "execution_count": 50,
   "metadata": {
    "collapsed": false
   },
   "outputs": [
    {
     "data": {
      "image/png": "[encoded data removed]",
      "text/latex": [
       "$$\\frac{1}{2} \\log{\\left (b_{D} \\right )} - \\frac{1}{2} \\log{\\left (b_{S} \\right )}$$"
      ],
      "text/plain": [
       "log(b_D)   log(b_S)\n",
       "──────── - ────────\n",
       "   2          2    "
      ]
     },
     "execution_count": 50,
     "metadata": {},
     "output_type": "execute_result"
    }
   ],
   "source": [
    "#Find the equilibrium price\n",
    "p_eq = solve(demand-supply,p)[0]\n",
    "p_eq"
   ]
  },
  {
   "cell_type": "code",
   "execution_count": 51,
   "metadata": {
    "collapsed": false
   },
   "outputs": [
    {
     "data": {
      "image/png": "[encoded data removed]",
      "text/latex": [
       "$$\\left[\\begin{matrix}\\frac{1}{2 b_{D}}\\\\- \\frac{1}{2 b_{S}}\\end{matrix}\\right]$$"
      ],
      "text/plain": [
       "⎡  1  ⎤\n",
       "⎢─────⎥\n",
       "⎢2⋅b_D⎥\n",
       "⎢     ⎥\n",
       "⎢ -1  ⎥\n",
       "⎢─────⎥\n",
       "⎣2⋅b_S⎦"
      ]
     },
     "execution_count": 51,
     "metadata": {},
     "output_type": "execute_result"
    }
   ],
   "source": [
    "grad = Matrix([p_eq.diff(bD), p_eq.diff(bS)])\n",
    "grad"
   ]
  },
  {
   "cell_type": "code",
   "execution_count": 52,
   "metadata": {
    "collapsed": false
   },
   "outputs": [
    {
     "data": {
      "image/png": "[encoded data removed]",
      "text/latex": [
       "$$\\left[\\begin{matrix}\\frac{1}{10}\\\\- \\frac{1}{2}\\end{matrix}\\right]$$"
      ],
      "text/plain": [
       "⎡1/10⎤\n",
       "⎢    ⎥\n",
       "⎣-1/2⎦"
      ]
     },
     "execution_count": 52,
     "metadata": {},
     "output_type": "execute_result"
    }
   ],
   "source": [
    "sl = [(bD,5),(bS,1)]\n",
    "gradval = grad.subs(sl)\n",
    "gradval"
   ]
  },
  {
   "cell_type": "code",
   "execution_count": 53,
   "metadata": {
    "collapsed": false
   },
   "outputs": [
    {
     "data": {
      "image/png": "[encoded data removed]",
      "text/latex": [
       "$$\\frac{26}{315}$$"
      ],
      "text/plain": [
       " 26\n",
       "───\n",
       "315"
      ]
     },
     "execution_count": 53,
     "metadata": {},
     "output_type": "execute_result"
    }
   ],
   "source": [
    "dx = Matrix([Rational(1,9), -Rational(1,7)])\n",
    "dp = gradval.dot(dx)\n",
    "dp"
   ]
  },
  {
   "cell_type": "code",
   "execution_count": 54,
   "metadata": {
    "collapsed": false
   },
   "outputs": [
    {
     "data": {
      "image/png": "[encoded data removed]",
      "text/latex": [
       "$$\\frac{26}{315} + \\frac{1}{2} \\log{\\left (5 \\right )}$$"
      ],
      "text/plain": [
       " 26   log(5)\n",
       "─── + ──────\n",
       "315     2   "
      ]
     },
     "execution_count": 54,
     "metadata": {},
     "output_type": "execute_result"
    }
   ],
   "source": [
    "p_eq.subs(sl) + dp"
   ]
  },
  {
   "cell_type": "code",
   "execution_count": 55,
   "metadata": {
    "collapsed": false
   },
   "outputs": [
    {
     "data": {
      "image/png": "[encoded data removed]",
      "text/plain": [
       "<matplotlib.figure.Figure at 0x10c13a8d0>"
      ]
     },
     "metadata": {},
     "output_type": "display_data"
    },
    {
     "data": {
      "text/plain": [
       "<sympy.plotting.plot.Plot at 0x10c128110>"
      ]
     },
     "execution_count": 55,
     "metadata": {},
     "output_type": "execute_result"
    }
   ],
   "source": [
    "plot(5*exp(-p),1*exp(p),(p,0,2))"
   ]
  },
  {
   "cell_type": "code",
   "execution_count": null,
   "metadata": {
    "collapsed": true
   },
   "outputs": [],
   "source": []
  }
 ],
 "metadata": {
  "kernelspec": {
   "display_name": "Python 2",
   "language": "python",
   "name": "python2"
  },
  "language_info": {
   "codemirror_mode": {
    "name": "ipython",
    "version": 2
   },
   "file_extension": ".py",
   "mimetype": "text/x-python",
   "name": "python",
   "nbconvert_exporter": "python",
   "pygments_lexer": "ipython2",
   "version": "2.7.12"
  }
 },
 "nbformat": 4,
 "nbformat_minor": 0
}

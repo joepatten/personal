{
 "cells": [
  {
   "cell_type": "code",
   "execution_count": 1,
   "metadata": {
    "collapsed": true
   },
   "outputs": [],
   "source": [
    "from sympy import *\n",
    "init_printing()"
   ]
  },
  {
   "cell_type": "code",
   "execution_count": 66,
   "metadata": {
    "collapsed": false
   },
   "outputs": [
    {
     "data": {
      "image/png": "[encoded data removed]",
      "text/latex": [
       "$$K L T p - K r - L^{2} w$$"
      ],
      "text/plain": [
       "                 2  \n",
       "K⋅L⋅T⋅p - K⋅r - L ⋅w"
      ]
     },
     "execution_count": 66,
     "metadata": {},
     "output_type": "execute_result"
    }
   ],
   "source": [
    "K,L,r,w,p,T = symbols('K L r w p T',\n",
    "                  real=True,\n",
    "                  positive=True,\n",
    "                  finite=True)\n",
    "\n",
    "production = T * K * L\n",
    "cost = r*K + w*L**2\n",
    "profit = p * production - cost\n",
    "profit"
   ]
  },
  {
   "cell_type": "code",
   "execution_count": 67,
   "metadata": {
    "collapsed": false
   },
   "outputs": [
    {
     "data": {
      "image/png": "[encoded data removed]",
      "text/latex": [
       "$$\\left ( L T p - r, \\quad K T p - 2 L w\\right )$$"
      ],
      "text/plain": [
       "(L⋅T⋅p - r, K⋅T⋅p - 2⋅L⋅w)"
      ]
     },
     "execution_count": 67,
     "metadata": {},
     "output_type": "execute_result"
    }
   ],
   "source": [
    "DK = profit.diff(K)\n",
    "DL = profit.diff(L)\n",
    "\n",
    "DK, DL"
   ]
  },
  {
   "cell_type": "code",
   "execution_count": 68,
   "metadata": {
    "collapsed": false
   },
   "outputs": [
    {
     "data": {
      "image/png": "[encoded data removed]",
      "text/latex": [
       "$$\\left ( \\left[\\begin{matrix}0 & T p\\\\T p & - 2 w\\end{matrix}\\right], \\quad \\left[\\begin{matrix}r\\\\0\\end{matrix}\\right]\\right )$$"
      ],
      "text/plain": [
       "⎛⎡ 0   T⋅p ⎤, ⎡r⎤⎞\n",
       "⎜⎢         ⎥  ⎢ ⎥⎟\n",
       "⎝⎣T⋅p  -2⋅w⎦  ⎣0⎦⎠"
      ]
     },
     "execution_count": 68,
     "metadata": {},
     "output_type": "execute_result"
    }
   ],
   "source": [
    "A = Matrix([\n",
    "    [0, T*p],\n",
    "    [T*p, -2*w]\n",
    "])\n",
    "\n",
    "b = Matrix([\n",
    "    [r],\n",
    "    [0]\n",
    "])\n",
    "\n",
    "A, b"
   ]
  },
  {
   "cell_type": "code",
   "execution_count": 69,
   "metadata": {
    "collapsed": false
   },
   "outputs": [
    {
     "data": {
      "image/png": "[encoded data removed]",
      "text/latex": [
       "$$- T^{2} p^{2}$$"
      ],
      "text/plain": [
       "  2  2\n",
       "-T ⋅p "
      ]
     },
     "execution_count": 69,
     "metadata": {},
     "output_type": "execute_result"
    }
   ],
   "source": [
    "d = A.det()\n",
    "d"
   ]
  },
  {
   "cell_type": "markdown",
   "metadata": {},
   "source": [
    "Assume that $p >0$."
   ]
  },
  {
   "cell_type": "code",
   "execution_count": 70,
   "metadata": {
    "collapsed": false
   },
   "outputs": [
    {
     "data": {
      "image/png": "[encoded data removed]",
      "text/latex": [
       "$$\\left[\\begin{matrix}\\frac{2 w}{T^{2} p^{2}} & \\frac{1}{T p}\\\\\\frac{1}{T p} & 0\\end{matrix}\\right]$$"
      ],
      "text/plain": [
       "⎡ 2⋅w    1 ⎤\n",
       "⎢─────  ───⎥\n",
       "⎢ 2  2  T⋅p⎥\n",
       "⎢T ⋅p      ⎥\n",
       "⎢          ⎥\n",
       "⎢  1       ⎥\n",
       "⎢ ───    0 ⎥\n",
       "⎣ T⋅p      ⎦"
      ]
     },
     "execution_count": 70,
     "metadata": {},
     "output_type": "execute_result"
    }
   ],
   "source": [
    "Ainv = A.inv()\n",
    "Ainv"
   ]
  },
  {
   "cell_type": "code",
   "execution_count": 71,
   "metadata": {
    "collapsed": false
   },
   "outputs": [
    {
     "data": {
      "image/png": "[encoded data removed]",
      "text/latex": [
       "$$\\left [ \\left \\{ K : \\frac{2 r w}{T^{2} p^{2}}, \\quad L : \\frac{r}{T p}\\right \\}\\right ]$$"
      ],
      "text/plain": [
       "⎡⎧   2⋅r⋅w      r ⎫⎤\n",
       "⎢⎪K: ─────, L: ───⎪⎥\n",
       "⎢⎨    2  2     T⋅p⎬⎥\n",
       "⎢⎪   T ⋅p         ⎪⎥\n",
       "⎣⎩                ⎭⎦"
      ]
     },
     "execution_count": 71,
     "metadata": {},
     "output_type": "execute_result"
    }
   ],
   "source": [
    "sol = solve([DK, DL], [K, L], dict=True)\n",
    "sol"
   ]
  },
  {
   "cell_type": "code",
   "execution_count": 72,
   "metadata": {
    "collapsed": false
   },
   "outputs": [
    {
     "data": {
      "image/png": "[encoded data removed]",
      "text/latex": [
       "$$\\left[\\begin{matrix}0 & T p\\\\T p & - 2 w\\end{matrix}\\right]$$"
      ],
      "text/plain": [
       "⎡ 0   T⋅p ⎤\n",
       "⎢         ⎥\n",
       "⎣T⋅p  -2⋅w⎦"
      ]
     },
     "execution_count": 72,
     "metadata": {},
     "output_type": "execute_result"
    }
   ],
   "source": [
    "Hessian = Matrix([\n",
    "    [DK.diff(K), DK.diff(L)],\n",
    "    [DL.diff(K), DL.diff(L)]\n",
    "])\n",
    "Hessian"
   ]
  },
  {
   "cell_type": "code",
   "execution_count": 73,
   "metadata": {
    "collapsed": false
   },
   "outputs": [
    {
     "data": {
      "image/png": "[encoded data removed]",
      "text/latex": [
       "$$2$$"
      ],
      "text/plain": [
       "2"
      ]
     },
     "execution_count": 73,
     "metadata": {},
     "output_type": "execute_result"
    }
   ],
   "source": [
    "# What is the rank of the matrix A?\n",
    "A.rank()"
   ]
  },
  {
   "cell_type": "code",
   "execution_count": null,
   "metadata": {
    "collapsed": true
   },
   "outputs": [],
   "source": []
  }
 ],
 "metadata": {
  "kernelspec": {
   "display_name": "Python 3",
   "language": "python",
   "name": "python3"
  },
  "language_info": {
   "codemirror_mode": {
    "name": "ipython",
    "version": 3
   },
   "file_extension": ".py",
   "mimetype": "text/x-python",
   "name": "python",
   "nbconvert_exporter": "python",
   "pygments_lexer": "ipython3",
   "version": "3.5.2"
  }
 },
 "nbformat": 4,
 "nbformat_minor": 2
}

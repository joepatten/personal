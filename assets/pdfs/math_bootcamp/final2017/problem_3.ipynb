{
 "cells": [
  {
   "cell_type": "code",
   "execution_count": 1,
   "metadata": {
    "collapsed": true
   },
   "outputs": [],
   "source": [
    "from sympy import *\n",
    "init_printing()"
   ]
  },
  {
   "cell_type": "code",
   "execution_count": 7,
   "metadata": {
    "collapsed": false
   },
   "outputs": [
    {
     "data": {
      "image/png": "[encoded data removed]",
      "text/latex": [
       "$$\\lambda \\left(W - p_{1} x_{1} - p_{2} x_{2}\\right) + U{\\left (x_{1},x_{2} \\right )}$$"
      ],
      "text/plain": [
       "λ⋅(W - p₁⋅x₁ - p₂⋅x₂) + U(x₁, x₂)"
      ]
     },
     "execution_count": 7,
     "metadata": {},
     "output_type": "execute_result"
    }
   ],
   "source": [
    "x1, x2, p1, p2, L, W = symbols('x_1 x_2 p_1 p_2 lambda W',\n",
    "                              real=True,\n",
    "                              positive=True,\n",
    "                              finite=True)\n",
    "\n",
    "U = Function('U')\n",
    "utility = U(x1,x2)\n",
    "bc = W - p1*x1 - p2*x2\n",
    "lagrange = utility + L*bc\n",
    "lagrange"
   ]
  },
  {
   "cell_type": "code",
   "execution_count": 8,
   "metadata": {
    "collapsed": false
   },
   "outputs": [
    {
     "data": {
      "image/png": "[encoded data removed]",
      "text/latex": [
       "$$\\left ( - \\lambda p_{1} + \\frac{\\partial}{\\partial x_{1}} U{\\left (x_{1},x_{2} \\right )}, \\quad - \\lambda p_{2} + \\frac{\\partial}{\\partial x_{2}} U{\\left (x_{1},x_{2} \\right )}, \\quad W - p_{1} x_{1} - p_{2} x_{2}\\right )$$"
      ],
      "text/plain": [
       "⎛         ∂                       ∂                               ⎞\n",
       "⎜-λ⋅p₁ + ───(U(x₁, x₂)), -λ⋅p₂ + ───(U(x₁, x₂)), W - p₁⋅x₁ - p₂⋅x₂⎟\n",
       "⎝        ∂x₁                     ∂x₂                              ⎠"
      ]
     },
     "execution_count": 8,
     "metadata": {},
     "output_type": "execute_result"
    }
   ],
   "source": [
    "Dx1 = lagrange.diff(x1)\n",
    "Dx2 = lagrange.diff(x2)\n",
    "DL = lagrange.diff(L)\n",
    "\n",
    "Dx1, Dx2, DL"
   ]
  },
  {
   "cell_type": "code",
   "execution_count": 10,
   "metadata": {
    "collapsed": false
   },
   "outputs": [
    {
     "data": {
      "image/png": "[encoded data removed]",
      "text/latex": [
       "$$\\left ( \\left[\\begin{matrix}- \\lambda p_{1} + \\frac{\\partial}{\\partial x_{1}} U{\\left (x_{1},x_{2} \\right )}\\\\- \\lambda p_{2} + \\frac{\\partial}{\\partial x_{2}} U{\\left (x_{1},x_{2} \\right )}\\\\W - p_{1} x_{1} - p_{2} x_{2}\\end{matrix}\\right], \\quad \\left[\\begin{matrix}0\\\\0\\\\0\\end{matrix}\\right]\\right )$$"
      ],
      "text/plain": [
       "⎛⎡         ∂            ⎤     ⎞\n",
       "⎜⎢-λ⋅p₁ + ───(U(x₁, x₂))⎥, ⎡0⎤⎟\n",
       "⎜⎢        ∂x₁           ⎥  ⎢ ⎥⎟\n",
       "⎜⎢                      ⎥  ⎢0⎥⎟\n",
       "⎜⎢         ∂            ⎥  ⎢ ⎥⎟\n",
       "⎜⎢-λ⋅p₂ + ───(U(x₁, x₂))⎥  ⎣0⎦⎟\n",
       "⎜⎢        ∂x₂           ⎥     ⎟\n",
       "⎜⎢                      ⎥     ⎟\n",
       "⎝⎣  W - p₁⋅x₁ - p₂⋅x₂   ⎦     ⎠"
      ]
     },
     "execution_count": 10,
     "metadata": {},
     "output_type": "execute_result"
    }
   ],
   "source": [
    "Left = Matrix([\n",
    "    [Dx1],\n",
    "    [Dx2],\n",
    "    [DL]\n",
    "])\n",
    "Right = Matrix([\n",
    "    [0],\n",
    "    [0],\n",
    "    [0]\n",
    "])\n",
    "\n",
    "Left, Right"
   ]
  },
  {
   "cell_type": "code",
   "execution_count": null,
   "metadata": {
    "collapsed": true
   },
   "outputs": [],
   "source": []
  }
 ],
 "metadata": {
  "kernelspec": {
   "display_name": "Python 3",
   "language": "python",
   "name": "python3"
  },
  "language_info": {
   "codemirror_mode": {
    "name": "ipython",
    "version": 3
   },
   "file_extension": ".py",
   "mimetype": "text/x-python",
   "name": "python",
   "nbconvert_exporter": "python",
   "pygments_lexer": "ipython3",
   "version": "3.5.2"
  }
 },
 "nbformat": 4,
 "nbformat_minor": 2
}

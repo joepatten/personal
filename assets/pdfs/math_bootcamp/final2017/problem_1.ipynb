{
 "cells": [
  {
   "cell_type": "code",
   "execution_count": 10,
   "metadata": {
    "collapsed": true
   },
   "outputs": [],
   "source": [
    "from sympy import *\n",
    "init_printing()"
   ]
  },
  {
   "cell_type": "code",
   "execution_count": 11,
   "metadata": {
    "collapsed": false
   },
   "outputs": [
    {
     "data": {
      "image/png": "[encoded data removed]",
      "text/latex": [
       "$$\\left ( \\frac{q_{1}^{2}}{4} - q_{1} q_{2} + \\frac{q_{1} q_{3}}{3}, \\quad \\frac{q_{1}}{4} - \\frac{q_{2}^{2}}{4} + q_{2} q_{3}, \\quad \\frac{q_{3}}{8} \\left(q_{1} + q_{2}\\right) - q_{3}\\right )$$"
      ],
      "text/plain": [
       "⎛  2                         2                           ⎞\n",
       "⎜q₁            q₁⋅q₃  q₁   q₂           q₃⋅(q₁ + q₂)     ⎟\n",
       "⎜─── - q₁⋅q₂ + ─────, ── - ─── + q₂⋅q₃, ──────────── - q₃⎟\n",
       "⎝ 4              3    4     4                8           ⎠"
      ]
     },
     "execution_count": 11,
     "metadata": {},
     "output_type": "execute_result"
    }
   ],
   "source": [
    "q1, q2, q3 = symbols('q_1 q_2 q_3',\n",
    "                     real=True,\n",
    "                     positive=True,\n",
    "                     finite=True)\n",
    "\n",
    "# Define payoff functions for solvable system\n",
    "payoff1 = Rational(1,4)*(q1**2) - q1 * q2 + Rational(1,3) * q1 * q3\n",
    "payoff2 = Rational(1,4) * q1 - Rational(1,4)*q2**2 + q2 * q3\n",
    "payoff3 = Rational(1,8) * q3 * (q1 + q2) - q3\n",
    "\n",
    "# Define payoff functions for unsolvable system\n",
    "# payoff1_ns\n",
    "# payoff2_ns\n",
    "# payoff3_ns\n",
    "\n",
    "payoff1, payoff2, payoff3"
   ]
  },
  {
   "cell_type": "code",
   "execution_count": 12,
   "metadata": {
    "collapsed": false
   },
   "outputs": [
    {
     "data": {
      "image/png": "[encoded data removed]",
      "text/latex": [
       "$$\\left ( \\frac{q_{1}}{2} - q_{2} + \\frac{q_{3}}{3}, \\quad - \\frac{q_{2}}{2} + q_{3}, \\quad \\frac{q_{1}}{8} + \\frac{q_{2}}{8} - 1\\right )$$"
      ],
      "text/plain": [
       "⎛q₁        q₃    q₂       q₁   q₂    ⎞\n",
       "⎜── - q₂ + ──, - ── + q₃, ── + ── - 1⎟\n",
       "⎝2         3     2        8    8     ⎠"
      ]
     },
     "execution_count": 12,
     "metadata": {},
     "output_type": "execute_result"
    }
   ],
   "source": [
    "D1 = payoff1.diff(q1)\n",
    "D2 = payoff2.diff(q2)\n",
    "D3 = payoff3.diff(q3)\n",
    "D = [D1, D2, D3]\n",
    "D1, D2, D3"
   ]
  },
  {
   "cell_type": "code",
   "execution_count": 13,
   "metadata": {
    "collapsed": false
   },
   "outputs": [
    {
     "data": {
      "image/png": "[encoded data removed]",
      "text/latex": [
       "$$\\left [ \\left \\{ q_{1} : 5, \\quad q_{2} : 3, \\quad q_{3} : \\frac{3}{2}\\right \\}\\right ]$$"
      ],
      "text/plain": [
       "[{q₁: 5, q₂: 3, q₃: 3/2}]"
      ]
     },
     "execution_count": 13,
     "metadata": {},
     "output_type": "execute_result"
    }
   ],
   "source": [
    "# Solve the FOC system\n",
    "solve([D1, D2, D3], [q1, q2, q3], dict=True)"
   ]
  },
  {
   "cell_type": "code",
   "execution_count": 14,
   "metadata": {
    "collapsed": false
   },
   "outputs": [
    {
     "data": {
      "image/png": "[encoded data removed]",
      "text/latex": [
       "$$\\left ( \\left[\\begin{matrix}\\frac{1}{2} & -1 & \\frac{1}{3}\\\\0 & - \\frac{1}{2} & 1\\\\\\frac{1}{8} & \\frac{1}{8} & 0\\end{matrix}\\right], \\quad \\left[\\begin{matrix}0\\\\0\\\\1\\end{matrix}\\right]\\right )$$"
      ],
      "text/plain": [
       "⎛⎡1/2   -1   1/3⎤, ⎡0⎤⎞\n",
       "⎜⎢              ⎥  ⎢ ⎥⎟\n",
       "⎜⎢ 0   -1/2   1 ⎥  ⎢0⎥⎟\n",
       "⎜⎢              ⎥  ⎢ ⎥⎟\n",
       "⎝⎣1/8  1/8    0 ⎦  ⎣1⎦⎠"
      ]
     },
     "execution_count": 14,
     "metadata": {},
     "output_type": "execute_result"
    }
   ],
   "source": [
    "A = Matrix([\n",
    "    [Rational(1,2), -1, Rational(1,3)],\n",
    "    [0, -Rational(1,2), 1],\n",
    "    [Rational(1,8), Rational(1,8), 0]\n",
    "])\n",
    "A\n",
    "b = Matrix([[0],\n",
    "            [0],\n",
    "            [1]])\n",
    "            \n",
    "A, b"
   ]
  },
  {
   "cell_type": "code",
   "execution_count": 15,
   "metadata": {
    "collapsed": false
   },
   "outputs": [
    {
     "data": {
      "image/png": "[encoded data removed]",
      "text/latex": [
       "$$\\left ( \\left[\\begin{matrix}1 & 0 & 0\\\\0 & 1 & 0\\\\0 & 0 & 1\\end{matrix}\\right], \\quad \\left [ 0, \\quad 1, \\quad 2\\right ]\\right )$$"
      ],
      "text/plain": [
       "⎛⎡1  0  0⎤, [0, 1, 2]⎞\n",
       "⎜⎢       ⎥           ⎟\n",
       "⎜⎢0  1  0⎥           ⎟\n",
       "⎜⎢       ⎥           ⎟\n",
       "⎝⎣0  0  1⎦           ⎠"
      ]
     },
     "execution_count": 15,
     "metadata": {},
     "output_type": "execute_result"
    }
   ],
   "source": [
    "A.rref()"
   ]
  },
  {
   "cell_type": "code",
   "execution_count": 16,
   "metadata": {
    "collapsed": false
   },
   "outputs": [
    {
     "data": {
      "image/png": "[encoded data removed]",
      "text/latex": [
       "$$\\left[\\begin{matrix}\\frac{3}{4} & - \\frac{1}{4} & 5\\\\- \\frac{3}{4} & \\frac{1}{4} & 3\\\\- \\frac{3}{8} & \\frac{9}{8} & \\frac{3}{2}\\end{matrix}\\right]$$"
      ],
      "text/plain": [
       "⎡3/4   -1/4   5 ⎤\n",
       "⎢               ⎥\n",
       "⎢-3/4  1/4    3 ⎥\n",
       "⎢               ⎥\n",
       "⎣-3/8  9/8   3/2⎦"
      ]
     },
     "execution_count": 16,
     "metadata": {},
     "output_type": "execute_result"
    }
   ],
   "source": [
    "A.inv()"
   ]
  },
  {
   "cell_type": "code",
   "execution_count": 17,
   "metadata": {
    "collapsed": false
   },
   "outputs": [
    {
     "data": {
      "image/png": "[encoded data removed]",
      "text/latex": [
       "$$- \\frac{1}{6}$$"
      ],
      "text/plain": [
       "-1/6"
      ]
     },
     "execution_count": 17,
     "metadata": {},
     "output_type": "execute_result"
    }
   ],
   "source": [
    "A.det()"
   ]
  },
  {
   "cell_type": "code",
   "execution_count": 18,
   "metadata": {
    "collapsed": false
   },
   "outputs": [
    {
     "data": {
      "image/png": "[encoded data removed]",
      "text/latex": [
       "$$\\left[\\begin{matrix}5\\\\3\\\\\\frac{3}{2}\\end{matrix}\\right]$$"
      ],
      "text/plain": [
       "⎡ 5 ⎤\n",
       "⎢   ⎥\n",
       "⎢ 3 ⎥\n",
       "⎢   ⎥\n",
       "⎣3/2⎦"
      ]
     },
     "execution_count": 18,
     "metadata": {},
     "output_type": "execute_result"
    }
   ],
   "source": [
    "A.inv() * b"
   ]
  }
 ],
 "metadata": {
  "kernelspec": {
   "display_name": "Python 3",
   "language": "python",
   "name": "python3"
  },
  "language_info": {
   "codemirror_mode": {
    "name": "ipython",
    "version": 3
   },
   "file_extension": ".py",
   "mimetype": "text/x-python",
   "name": "python",
   "nbconvert_exporter": "python",
   "pygments_lexer": "ipython3",
   "version": "3.5.2"
  }
 },
 "nbformat": 4,
 "nbformat_minor": 2
}
